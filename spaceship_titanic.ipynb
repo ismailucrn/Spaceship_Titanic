{
 "cells": [
  {
   "cell_type": "code",
   "execution_count": null,
   "metadata": {},
   "outputs": [],
   "source": []
  }
 ],
 "metadata": {
  "kernelspec": {
   "display_name": "base",
   "language": "python",
   "name": "python3"
  },
  "language_info": {
   "name": "python",
   "version": "3.9.12 (main, Apr  4 2022, 05:22:27) [MSC v.1916 64 bit (AMD64)]"
  },
  "orig_nbformat": 4,
  "vscode": {
   "interpreter": {
    "hash": "a93b93b29dbf0b90a817b630800530a587d7dd23f1a57d43afaca304288906df"
   }
  }
 },
 "nbformat": 4,
 "nbformat_minor": 2
}
